{
 "cells": [
  {
   "cell_type": "markdown",
   "metadata": {},
   "source": [
    "<center>\n",
    "    <img src=\"https://s3-api.us-geo.objectstorage.softlayer.net/cf-courses-data/CognitiveClass/Logos/organization_logo/organization_logo.png\" width=\"300\" alt=\"cognitiveclass.ai logo\"  />\n",
    "</center>\n"
   ]
  },
  {
   "cell_type": "markdown",
   "metadata": {},
   "source": [
    "#### Add your code below following the instructions given in the course\n"
   ]
  },
  {
   "cell_type": "markdown",
   "metadata": {},
   "source": [
    "# My Jupyter Notebook on IBM Watson Studio"
   ]
  },
  {
   "cell_type": "markdown",
   "metadata": {},
   "source": [
    "**Armando Riveros**\n",
    "\n",
    "Data science"
   ]
  },
  {
   "cell_type": "markdown",
   "metadata": {},
   "source": [
    "_I am interested in data science because it is a relatively new field with a great future since the same information analyzed correctly can tell us stories that can suggest a change in the direction of a company or better focus its resources as well as in the various areas in which it can be applied_"
   ]
  },
  {
   "cell_type": "markdown",
   "metadata": {},
   "source": [
    "### The following program will determine the total payment for a 75-hour workday at an hourly cost of 22.00."
   ]
  },
  {
   "cell_type": "code",
   "execution_count": 2,
   "metadata": {},
   "outputs": [
    {
     "name": "stdout",
     "output_type": "stream",
     "text": [
      "1650.0\n"
     ]
    }
   ],
   "source": [
    "HorasTrabajadas=75.00\n",
    "PagoPorHora=22.00\n",
    "Pago=HorasTrabajadas*PagoPorHora\n",
    "print(Pago)"
   ]
  },
  {
   "cell_type": "markdown",
   "metadata": {},
   "source": [
    "---\n",
    "\n",
    "- Apple\n",
    "- Banana\n",
    "- Mango\n",
    "- Strawberry\n",
    "\n",
    "1. One\n",
    "2. Two\n",
    "3. Three\n",
    "4. Four\n",
    "5. Five\n",
    "\n",
    "\n",
    "\n",
    "\n",
    "|Col1 | Col2 |Col3 |\n",
    "|---------|---------|---------|\n",
    "|Row1 Col1|Row1 Col2|Row1 Col3|\n",
    "|Row2 Col1|Row2 Col2|Row2 Col3|\n",
    "|Row3 Col1|Row3 Col2|Row3 Col3|\n",
    "\n",
    "\n",
    "\n",
    "\n",
    "\n",
    "\n",
    "<https://cloud.ibm.com/>"
   ]
  }
 ],
 "metadata": {
  "kernelspec": {
   "display_name": "Python",
   "language": "python",
   "name": "conda-env-python-py"
  },
  "language_info": {
   "codemirror_mode": {
    "name": "ipython",
    "version": 3
   },
   "file_extension": ".py",
   "mimetype": "text/x-python",
   "name": "python",
   "nbconvert_exporter": "python",
   "pygments_lexer": "ipython3",
   "version": "3.7.12"
  }
 },
 "nbformat": 4,
 "nbformat_minor": 4
}
