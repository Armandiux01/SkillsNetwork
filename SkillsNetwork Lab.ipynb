{
 "cells": [
  {
   "cell_type": "markdown",
   "metadata": {
    "collapsed": true
   },
   "source": [
    "# My Jupyter Notebook on IBM Watson Studio"
   ]
  },
  {
   "cell_type": "markdown",
   "metadata": {},
   "source": [
    "**Armando Riveros Hernández.**\n",
    "\n",
    "Ingeniero en Sistemas Computacionales "
   ]
  },
  {
   "cell_type": "markdown",
   "metadata": {},
   "source": [
    "___Estoy interesado en la ciencia de datos porque es un campo relativamente nuevo con un gran futuro  ya que la misma información analizada de manera correcta  nos puede contar historias que pueden sugerir  un cambio en la  dirección de una compañía o enfocar mucho mejor sus recursos  así como en  las diversas áreas en las que se puede aplicar___\n"
   ]
  },
  {
   "cell_type": "markdown",
   "metadata": {},
   "source": [
    "### El siguiente programa  determinar el pago  total por una jornada de trabajo de 75 horas a un costo por hora de 22.00"
   ]
  },
  {
   "cell_type": "code",
   "execution_count": 28,
   "metadata": {},
   "outputs": [
    {
     "name": "stdout",
     "output_type": "stream",
     "text": [
      "1650.0\n"
     ]
    }
   ],
   "source": [
    "HorasTrabajadas=75.00\n",
    "PagoPorHora=22.00\n",
    "Pago=HorasTrabajadas*PagoPorHora\n",
    "print(Pago)"
   ]
  },
  {
   "cell_type": "markdown",
   "metadata": {},
   "source": [
    "horizontal rule\n",
    "\n",
    "---\n",
    "\n",
    "Bulleted list\n",
    "\n",
    "- manzanas\n",
    "- platanos\n",
    "- mangos\n",
    "- fresas\n",
    "\n",
    "Numbered list\n",
    "\n",
    "1. Uno\n",
    "2. Dos \n",
    "3. Tres\n",
    "4. Cuatro\n",
    "5  Cinco\n",
    "\n",
    "Table\n",
    " \n",
    "col 1|col 2 |col3|\n",
    "---|---|---|\n",
    "Fila 1,col 1| fila 1, col2|fila 1,col3|\n",
    "Fila 2,col 1| fila 2, col2|fila 2,col3|\n",
    "Fila 3,col 1| fila 3, col2|fila 3,col3|\n",
    "\n",
    "Code\n",
    "\n",
    "`Ejemplo de codigo`\n",
    "\n",
    "\n",
    "Blockquotes\n",
    "\n",
    ">Bloque uno\n",
    "\n",
    ">Bloque dos\n",
    "\n",
    ">Bloque tres\n",
    "\n",
    "\n",
    "Link\n",
    "\n",
    "<https://cloud.ibm.com/>"
   ]
  }
 ],
 "metadata": {
  "kernelspec": {
   "display_name": "Python 3.9",
   "language": "python",
   "name": "python3"
  },
  "language_info": {
   "codemirror_mode": {
    "name": "ipython",
    "version": 3
   },
   "file_extension": ".py",
   "mimetype": "text/x-python",
   "name": "python",
   "nbconvert_exporter": "python",
   "pygments_lexer": "ipython3",
   "version": "3.9.12"
  }
 },
 "nbformat": 4,
 "nbformat_minor": 1
}
